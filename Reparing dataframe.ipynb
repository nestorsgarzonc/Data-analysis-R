{
 "cells": [
  {
   "cell_type": "code",
   "execution_count": 2,
   "metadata": {},
   "outputs": [],
   "source": [
    "import pandas as pd"
   ]
  },
  {
   "cell_type": "code",
   "execution_count": 3,
   "metadata": {},
   "outputs": [],
   "source": [
    "df=pd.read_csv('Base_Banco.csv', encoding = \"ISO-8859-1\", sep=';')"
   ]
  },
  {
   "cell_type": "code",
   "execution_count": 4,
   "metadata": {},
   "outputs": [
    {
     "data": {
      "text/plain": [
       "(4521, 14)"
      ]
     },
     "execution_count": 4,
     "metadata": {},
     "output_type": "execute_result"
    }
   ],
   "source": [
    "df.shape"
   ]
  },
  {
   "cell_type": "code",
   "execution_count": 5,
   "metadata": {},
   "outputs": [
    {
     "data": {
      "text/html": [
       "<div>\n",
       "<style scoped>\n",
       "    .dataframe tbody tr th:only-of-type {\n",
       "        vertical-align: middle;\n",
       "    }\n",
       "\n",
       "    .dataframe tbody tr th {\n",
       "        vertical-align: top;\n",
       "    }\n",
       "\n",
       "    .dataframe thead th {\n",
       "        text-align: right;\n",
       "    }\n",
       "</style>\n",
       "<table border=\"1\" class=\"dataframe\">\n",
       "  <thead>\n",
       "    <tr style=\"text-align: right;\">\n",
       "      <th></th>\n",
       "      <th>edad</th>\n",
       "      <th>ocupación</th>\n",
       "      <th>est_civil</th>\n",
       "      <th>nivel_educativo</th>\n",
       "      <th>contrato_meses</th>\n",
       "      <th>Cred_hipotecario</th>\n",
       "      <th>Cred_personal</th>\n",
       "      <th>Medio_contacto</th>\n",
       "      <th>Dia</th>\n",
       "      <th>Mes</th>\n",
       "      <th>duracion_seg</th>\n",
       "      <th>cont_campaña_actual</th>\n",
       "      <th>campañas_previas</th>\n",
       "      <th>aceptacion_TC</th>\n",
       "    </tr>\n",
       "  </thead>\n",
       "  <tbody>\n",
       "    <tr>\n",
       "      <th>0</th>\n",
       "      <td>30</td>\n",
       "      <td>desempleado</td>\n",
       "      <td>casado</td>\n",
       "      <td>primaria</td>\n",
       "      <td>21</td>\n",
       "      <td>no</td>\n",
       "      <td>no</td>\n",
       "      <td>celular</td>\n",
       "      <td>19</td>\n",
       "      <td>octubre</td>\n",
       "      <td>79</td>\n",
       "      <td>1</td>\n",
       "      <td>0</td>\n",
       "      <td>no</td>\n",
       "    </tr>\n",
       "    <tr>\n",
       "      <th>1</th>\n",
       "      <td>33</td>\n",
       "      <td>profesor</td>\n",
       "      <td>casado</td>\n",
       "      <td>bachillerato</td>\n",
       "      <td>37</td>\n",
       "      <td>si</td>\n",
       "      <td>si</td>\n",
       "      <td>celular</td>\n",
       "      <td>11</td>\n",
       "      <td>mayo</td>\n",
       "      <td>220</td>\n",
       "      <td>1</td>\n",
       "      <td>4</td>\n",
       "      <td>no</td>\n",
       "    </tr>\n",
       "    <tr>\n",
       "      <th>2</th>\n",
       "      <td>35</td>\n",
       "      <td>administrador</td>\n",
       "      <td>soltero</td>\n",
       "      <td>universitario</td>\n",
       "      <td>52</td>\n",
       "      <td>si</td>\n",
       "      <td>no</td>\n",
       "      <td>celular</td>\n",
       "      <td>16</td>\n",
       "      <td>abril</td>\n",
       "      <td>185</td>\n",
       "      <td>1</td>\n",
       "      <td>1</td>\n",
       "      <td>no</td>\n",
       "    </tr>\n",
       "    <tr>\n",
       "      <th>3</th>\n",
       "      <td>30</td>\n",
       "      <td>administrador</td>\n",
       "      <td>casado</td>\n",
       "      <td>universitario</td>\n",
       "      <td>27</td>\n",
       "      <td>si</td>\n",
       "      <td>si</td>\n",
       "      <td>chat</td>\n",
       "      <td>3</td>\n",
       "      <td>junio</td>\n",
       "      <td>199</td>\n",
       "      <td>4</td>\n",
       "      <td>0</td>\n",
       "      <td>no</td>\n",
       "    </tr>\n",
       "    <tr>\n",
       "      <th>4</th>\n",
       "      <td>59</td>\n",
       "      <td>informal</td>\n",
       "      <td>casado</td>\n",
       "      <td>bachillerato</td>\n",
       "      <td>6</td>\n",
       "      <td>si</td>\n",
       "      <td>no</td>\n",
       "      <td>chat</td>\n",
       "      <td>5</td>\n",
       "      <td>mayo</td>\n",
       "      <td>226</td>\n",
       "      <td>1</td>\n",
       "      <td>0</td>\n",
       "      <td>no</td>\n",
       "    </tr>\n",
       "  </tbody>\n",
       "</table>\n",
       "</div>"
      ],
      "text/plain": [
       "   edad      ocupación est_civil nivel_educativo  contrato_meses  \\\n",
       "0    30    desempleado    casado        primaria              21   \n",
       "1    33       profesor    casado    bachillerato              37   \n",
       "2    35  administrador   soltero   universitario              52   \n",
       "3    30  administrador    casado   universitario              27   \n",
       "4    59       informal    casado    bachillerato               6   \n",
       "\n",
       "  Cred_hipotecario Cred_personal Medio_contacto  Dia      Mes  duracion_seg  \\\n",
       "0               no            no        celular   19  octubre            79   \n",
       "1               si            si        celular   11     mayo           220   \n",
       "2               si            no        celular   16    abril           185   \n",
       "3               si            si           chat    3    junio           199   \n",
       "4               si            no           chat    5     mayo           226   \n",
       "\n",
       "   cont_campaña_actual  campañas_previas aceptacion_TC  \n",
       "0                    1                 0            no  \n",
       "1                    1                 4            no  \n",
       "2                    1                 1            no  \n",
       "3                    4                 0            no  \n",
       "4                    1                 0            no  "
      ]
     },
     "execution_count": 5,
     "metadata": {},
     "output_type": "execute_result"
    }
   ],
   "source": [
    "df.head(5)"
   ]
  },
  {
   "cell_type": "markdown",
   "metadata": {},
   "source": [
    "## Exporting data to csv"
   ]
  },
  {
   "cell_type": "code",
   "execution_count": 7,
   "metadata": {},
   "outputs": [],
   "source": [
    "df.to_csv('banco_dataframe.csv')"
   ]
  },
  {
   "cell_type": "code",
   "execution_count": null,
   "metadata": {},
   "outputs": [],
   "source": []
  }
 ],
 "metadata": {
  "kernelspec": {
   "display_name": "Python 3",
   "language": "python",
   "name": "python3"
  }
 },
 "nbformat": 4,
 "nbformat_minor": 4
}
