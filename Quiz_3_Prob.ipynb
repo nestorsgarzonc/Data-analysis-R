{
  "nbformat": 4,
  "nbformat_minor": 0,
  "metadata": {
    "colab": {
      "name": "Quiz 3 Prob.ipynb",
      "provenance": [],
      "toc_visible": true,
      "authorship_tag": "ABX9TyNZi/PC1nUbYr18zGzf5qQM",
      "include_colab_link": true
    },
    "kernelspec": {
      "name": "ir",
      "display_name": "R"
    }
  },
  "cells": [
    {
      "cell_type": "markdown",
      "metadata": {
        "id": "view-in-github",
        "colab_type": "text"
      },
      "source": [
        "<a href=\"https://colab.research.google.com/github/nestorsgarzonc/Data-analysis-R/blob/master/Quiz_3_Prob.ipynb\" target=\"_parent\"><img src=\"https://colab.research.google.com/assets/colab-badge.svg\" alt=\"Open In Colab\"/></a>"
      ]
    },
    {
      "cell_type": "markdown",
      "metadata": {
        "id": "UO-VaLr0EtFq",
        "colab_type": "text"
      },
      "source": [
        "#Importar librerias necesarias"
      ]
    },
    {
      "cell_type": "markdown",
      "metadata": {
        "id": "uMqtkYmWE3K8",
        "colab_type": "text"
      },
      "source": [
        "## Descargar paquetes"
      ]
    },
    {
      "cell_type": "code",
      "metadata": {
        "id": "V1xBjU5qD9Qu",
        "colab_type": "code",
        "colab": {
          "base_uri": "https://localhost:8080/",
          "height": 301
        },
        "outputId": "78c8ecd9-c7ff-4ff2-aa0b-ef3dca2b1292"
      },
      "source": [
        "install.packages(\"ggplot2\")\n",
        "install.packages(\"psych\")\n",
        "install.packages(\"dplyr\")\n",
        "install.packages(\"readxl\")"
      ],
      "execution_count": 3,
      "outputs": [
        {
          "output_type": "stream",
          "text": [
            "Installing package into ‘/usr/local/lib/R/site-library’\n",
            "(as ‘lib’ is unspecified)\n",
            "\n",
            "Installing package into ‘/usr/local/lib/R/site-library’\n",
            "(as ‘lib’ is unspecified)\n",
            "\n",
            "Warning message:\n",
            "“dependency ‘mnormt’ is not available”\n",
            "Warning message in install.packages(\"psych\"):\n",
            "“installation of package ‘psych’ had non-zero exit status”\n",
            "Installing package into ‘/usr/local/lib/R/site-library’\n",
            "(as ‘lib’ is unspecified)\n",
            "\n",
            "Installing package into ‘/usr/local/lib/R/site-library’\n",
            "(as ‘lib’ is unspecified)\n",
            "\n"
          ],
          "name": "stderr"
        }
      ]
    },
    {
      "cell_type": "markdown",
      "metadata": {
        "id": "S0lp1Ge_E7Ub",
        "colab_type": "text"
      },
      "source": [
        "##Cargar paquetes"
      ]
    },
    {
      "cell_type": "code",
      "metadata": {
        "id": "lM6qVfc7EzbM",
        "colab_type": "code",
        "colab": {
          "base_uri": "https://localhost:8080/",
          "height": 132
        },
        "outputId": "fd9ccccb-ca20-4064-84a7-0bb0356718ce"
      },
      "source": [
        "library(\"ggplot2\")\n",
        "library(\"psych\")\n",
        "library(\"dplyr\")\n",
        "library(\"readxl\")"
      ],
      "execution_count": 2,
      "outputs": [
        {
          "output_type": "error",
          "ename": "ERROR",
          "evalue": "ignored",
          "traceback": [
            "Error in library(\"psych\"): there is no package called ‘psych’\nTraceback:\n",
            "1. library(\"psych\")"
          ]
        }
      ]
    },
    {
      "cell_type": "code",
      "metadata": {
        "id": "Eo10buHcE-BY",
        "colab_type": "code",
        "colab": {
          "base_uri": "https://localhost:8080/",
          "height": 185
        },
        "outputId": "f4e475fe-785a-4c6a-a61c-b239aa4cd109"
      },
      "source": [
        "X <- read.csv('Base_Banco.csv')"
      ],
      "execution_count": 9,
      "outputs": [
        {
          "output_type": "error",
          "ename": "ERROR",
          "evalue": "ignored",
          "traceback": [
            "Error in make.names(col.names, unique = TRUE): invalid multibyte string 1\nTraceback:\n",
            "1. read.csv(\"Base_Banco.csv\")",
            "2. read.table(file = file, header = header, sep = sep, quote = quote, \n .     dec = dec, fill = fill, comment.char = comment.char, ...)",
            "3. make.names(col.names, unique = TRUE)"
          ]
        }
      ]
    },
    {
      "cell_type": "code",
      "metadata": {
        "id": "g8vx6PFsFfQ0",
        "colab_type": "code",
        "colab": {
          "base_uri": "https://localhost:8080/",
          "height": 213
        },
        "outputId": "00cd9d79-6599-484f-9882-9c6743c7612a"
      },
      "source": [
        "head(X)"
      ],
      "execution_count": 7,
      "outputs": [
        {
          "output_type": "display_data",
          "data": {
            "text/plain": [
              "  X..DOCTYPE.html..html..head..meta.name.google.content.notranslate..meta.http.equiv.X.UA.Compatible.content.IE.edge...style..font.face.font.family..Roboto..font.style.italic.font.weight.400.src.local..Roboto.Italic..\n",
              "1                                                                                                                                                                                                                        \n",
              "2                                                                                                                                                                                                                        \n",
              "3                                                                                                                                                                                                                        \n",
              "4                                                                                                                                                                                                                        \n",
              "5                                                                                                                                                                                                                        \n",
              "6                                                                                                                                                                                                                        \n",
              "  local..Roboto.Italic..         \n",
              "1 null                           \n",
              "2 null                           \n",
              "3 6                              \n",
              "4 null                           \n",
              "5 null                           \n",
              "6 [https://youtube.googleapis.com\n",
              "  url...fonts.gstatic.com.s.roboto.v18.KFOkCnqEu92Fr1Mu51xIIzc.ttf.format..truetype.....font.face.font.family..Roboto..font.style.normal.font.weight.300.src.local..Roboto.Light..\n",
              "1 1                                                                                                                                                                               \n",
              "2 5                                                                                                                                                                               \n",
              "3 1                                                                                                                                                                               \n",
              "4 1                                                                                                                                                                               \n",
              "5 null                                                                                                                                                                            \n",
              "6 null                                                                                                                                                                            \n",
              "  local..Roboto.Light..\n",
              "1 null                 \n",
              "2 1                    \n",
              "3 1                    \n",
              "4 null                 \n",
              "5 1                    \n",
              "6 2]                   \n",
              "  url...fonts.gstatic.com.s.roboto.v18.KFOlCnqEu92Fr1MmSU5fBBc9.ttf.format..truetype.....font.face.font.family..Roboto..font.style.normal.font.weight.400.src.local..Roboto.Regular..\n",
              "1 0                                                                                                                                                                                  \n",
              "2 null                                                                                                                                                                               \n",
              "3 null                                                                                                                                                                               \n",
              "4 null                                                                                                                                                                               \n",
              "5 null                                                                                                                                                                               \n",
              "6                                                                                                                                                                                    \n",
              "  local..Roboto.Regular..\n",
              "1 1]                     \n",
              "2 null                   \n",
              "3 null                   \n",
              "4 [null                  \n",
              "5 null                   \n",
              "6                        \n",
              "  url...fonts.gstatic.com.s.roboto.v18.KFOmCnqEu92Fr1Mu4mxP.ttf.format..truetype.....font.face.font.family..Roboto..font.style.normal.font.weight.700.src.local..Roboto.Bold..\n",
              "1                                                                                                                                                                             \n",
              "2 1                                                                                                                                                                           \n",
              "3 null                                                                                                                                                                        \n",
              "4 null                                                                                                                                                                        \n",
              "5 https://docs.google.com                                                                                                                                                     \n",
              "6                                                                                                                                                                             \n",
              "  local..Roboto.Bold..    \n",
              "1                         \n",
              "2 https://drive.google.com\n",
              "3 2]                      \n",
              "4 null                    \n",
              "5 null                    \n",
              "6                         \n",
              "  url...fonts.gstatic.com.s.roboto.v18.KFOlCnqEu92Fr1MmWUlfBBc9.ttf.format..truetype......style..meta.name.referrer.content.origin..title.Base_Banco.csv...Google.Drive..title..meta.property.og.title.content.Base_Banco.csv..meta.property.og.type.content.article..meta.property.og.site_name.content.Google.Docs..meta.property.og.url.content.https...drive.google.com.file.d.1zeW4D8Y00D6wNVD8FSCV5VrTyadJAjFE.view.usp.embed_facebook..link.rel.shortcut.icon.href.https...ssl.gstatic.com.docs.doclist.images.icon_14_text_favicon.ico..link.rel.stylesheet.href.https...fonts.googleapis.com.css.family.Google.Sans.300.400.500.700..link.rel.stylesheet.href.https...www.gstatic.com._.apps.fileview._.ss.k.apps.fileview.v.PpauRgFZLfo.L.X.O.d.0.ct.zgms.rs.AO0039tnAhVWZFge_16kiIgj22PJOqKWhA..script._docs_flag_initialData..docs.ails.docs_cold\n",
              "1                                                                                                                                                                                                                                                                                                                                                                                                                                                                                                                                                                                                                                                                                                                                                                                                                                                            \n",
              "2 null                                                                                                                                                                                                                                                                                                                                                                                                                                                                                                                                                                                                                                                                                                                                                                                                                                                       \n",
              "3                                                                                                                                                                                                                                                                                                                                                                                                                                                                                                                                                                                                                                                                                                                                                                                                                                                            \n",
              "4 null                                                                                                                                                                                                                                                                                                                                                                                                                                                                                                                                                                                                                                                                                                                                                                                                                                                       \n",
              "5 1                                                                                                                                                                                                                                                                                                                                                                                                                                                                                                                                                                                                                                                                                                                                                                                                                                                          \n",
              "6                                                                                                                                                                                                                                                                                                                                                                                                                                                                                                                                                                                                                                                                                                                                                                                                                                                            \n",
              "  docs.fwds.docs_sdf                                                                                                                                                                                                                                                                               \n",
              "1                                                                                                                                                                                                                                                                                                  \n",
              "2 null                                                                                                                                                                                                                                                                                             \n",
              "3                                                                                                                                                                                                                                                                                                  \n",
              "4 https://accounts.google.com/ServiceLogin?service\\\\u003dwise\\\\u0026passive\\\\u003d1209600\\\\u0026continue\\\\u003dhttps://drive.google.com/file/d/1zeW4D8Y00D6wNVD8FSCV5VrTyadJAjFE/view\\\\u0026hl\\\\u003den\\\\u0026followup\\\\u003dhttps://drive.google.com/file/d/1zeW4D8Y00D6wNVD8FSCV5VrTyadJAjFE/view\n",
              "5 [null                                                                                                                                                                                                                                                                                            \n",
              "6                                                                                                                                                                                                                                                                                                  \n",
              "  ⋯ null.12 AIzaSyC1eQ1xj69IdTMeii5r7brs3R90eck.m7k X0.3 X.drive.v2beta X0.4\n",
              "1 ⋯                                                                         \n",
              "2 ⋯                                                                         \n",
              "3 ⋯                                                                         \n",
              "4 ⋯                                                                         \n",
              "5 ⋯                                                                         \n",
              "6 ⋯                                                                         \n",
              "  X0.5 X1.5 X.0 X0.6 X0..1\n",
              "1 NA   NA                 \n",
              "2 NA   NA                 \n",
              "3 NA   NA                 \n",
              "4 NA   NA                 \n",
              "5 NA   NA                 \n",
              "6 NA   NA                 "
            ],
            "text/latex": "A data.frame: 6 × 272\n\\begin{tabular}{r|lllllllllllllllllllll}\n  & X..DOCTYPE.html..html..head..meta.name.google.content.notranslate..meta.http.equiv.X.UA.Compatible.content.IE.edge...style..font.face.font.family..Roboto..font.style.italic.font.weight.400.src.local..Roboto.Italic.. & local..Roboto.Italic.. & url...fonts.gstatic.com.s.roboto.v18.KFOkCnqEu92Fr1Mu51xIIzc.ttf.format..truetype.....font.face.font.family..Roboto..font.style.normal.font.weight.300.src.local..Roboto.Light.. & local..Roboto.Light.. & url...fonts.gstatic.com.s.roboto.v18.KFOlCnqEu92Fr1MmSU5fBBc9.ttf.format..truetype.....font.face.font.family..Roboto..font.style.normal.font.weight.400.src.local..Roboto.Regular.. & local..Roboto.Regular.. & url...fonts.gstatic.com.s.roboto.v18.KFOmCnqEu92Fr1Mu4mxP.ttf.format..truetype.....font.face.font.family..Roboto..font.style.normal.font.weight.700.src.local..Roboto.Bold.. & local..Roboto.Bold.. & url...fonts.gstatic.com.s.roboto.v18.KFOlCnqEu92Fr1MmWUlfBBc9.ttf.format..truetype......style..meta.name.referrer.content.origin..title.Base\\_Banco.csv...Google.Drive..title..meta.property.og.title.content.Base\\_Banco.csv..meta.property.og.type.content.article..meta.property.og.site\\_name.content.Google.Docs..meta.property.og.url.content.https...drive.google.com.file.d.1zeW4D8Y00D6wNVD8FSCV5VrTyadJAjFE.view.usp.embed\\_facebook..link.rel.shortcut.icon.href.https...ssl.gstatic.com.docs.doclist.images.icon\\_14\\_text\\_favicon.ico..link.rel.stylesheet.href.https...fonts.googleapis.com.css.family.Google.Sans.300.400.500.700..link.rel.stylesheet.href.https...www.gstatic.com.\\_.apps.fileview.\\_.ss.k.apps.fileview.v.PpauRgFZLfo.L.X.O.d.0.ct.zgms.rs.AO0039tnAhVWZFge\\_16kiIgj22PJOqKWhA..script.\\_docs\\_flag\\_initialData..docs.ails.docs\\_cold & docs.fwds.docs\\_sdf & ⋯ & null.12 & AIzaSyC1eQ1xj69IdTMeii5r7brs3R90eck.m7k & X0.3 & X.drive.v2beta & X0.4 & X0.5 & X1.5 & X.0 & X0.6 & X0..1\\\\\n  & <fct> & <fct> & <fct> & <fct> & <fct> & <fct> & <fct> & <fct> & <fct> & <fct> & ⋯ & <fct> & <fct> & <fct> & <fct> & <fct> & <int> & <int> & <fct> & <fct> & <fct>\\\\\n\\hline\n\t1 &  & null                            & 1    & null & 0    & 1{]}    &                         &                          &      &                                                                                                                                                                                                                                                                                                   & ⋯ &  &  &  &  &  & NA & NA &  &  & \\\\\n\t2 &  & null                            & 5    & 1    & null & null  & 1                       & https://drive.google.com & null & null                                                                                                                                                                                                                                                                                              & ⋯ &  &  &  &  &  & NA & NA &  &  & \\\\\n\t3 &  & 6                               & 1    & 1    & null & null  & null                    & 2{]}                       &      &                                                                                                                                                                                                                                                                                                   & ⋯ &  &  &  &  &  & NA & NA &  &  & \\\\\n\t4 &  & null                            & 1    & null & null & {[}null & null                    & null                     & null & https://accounts.google.com/ServiceLogin?service\\textbackslash{}u003dwise\\textbackslash{}u0026passive\\textbackslash{}u003d1209600\\textbackslash{}u0026continue\\textbackslash{}u003dhttps://drive.google.com/file/d/1zeW4D8Y00D6wNVD8FSCV5VrTyadJAjFE/view\\textbackslash{}u0026hl\\textbackslash{}u003den\\textbackslash{}u0026followup\\textbackslash{}u003dhttps://drive.google.com/file/d/1zeW4D8Y00D6wNVD8FSCV5VrTyadJAjFE/view & ⋯ &  &  &  &  &  & NA & NA &  &  & \\\\\n\t5 &  & null                            & null & 1    & null & null  & https://docs.google.com & null                     & 1    & {[}null                                                                                                                                                                                                                                                                                             & ⋯ &  &  &  &  &  & NA & NA &  &  & \\\\\n\t6 &  & {[}https://youtube.googleapis.com & null & 2{]}   &      &       &                         &                          &      &                                                                                                                                                                                                                                                                                                   & ⋯ &  &  &  &  &  & NA & NA &  &  & \\\\\n\\end{tabular}\n",
            "text/markdown": "\nA data.frame: 6 × 272\n\n| <!--/--> | X..DOCTYPE.html..html..head..meta.name.google.content.notranslate..meta.http.equiv.X.UA.Compatible.content.IE.edge...style..font.face.font.family..Roboto..font.style.italic.font.weight.400.src.local..Roboto.Italic.. &lt;fct&gt; | local..Roboto.Italic.. &lt;fct&gt; | url...fonts.gstatic.com.s.roboto.v18.KFOkCnqEu92Fr1Mu51xIIzc.ttf.format..truetype.....font.face.font.family..Roboto..font.style.normal.font.weight.300.src.local..Roboto.Light.. &lt;fct&gt; | local..Roboto.Light.. &lt;fct&gt; | url...fonts.gstatic.com.s.roboto.v18.KFOlCnqEu92Fr1MmSU5fBBc9.ttf.format..truetype.....font.face.font.family..Roboto..font.style.normal.font.weight.400.src.local..Roboto.Regular.. &lt;fct&gt; | local..Roboto.Regular.. &lt;fct&gt; | url...fonts.gstatic.com.s.roboto.v18.KFOmCnqEu92Fr1Mu4mxP.ttf.format..truetype.....font.face.font.family..Roboto..font.style.normal.font.weight.700.src.local..Roboto.Bold.. &lt;fct&gt; | local..Roboto.Bold.. &lt;fct&gt; | url...fonts.gstatic.com.s.roboto.v18.KFOlCnqEu92Fr1MmWUlfBBc9.ttf.format..truetype......style..meta.name.referrer.content.origin..title.Base_Banco.csv...Google.Drive..title..meta.property.og.title.content.Base_Banco.csv..meta.property.og.type.content.article..meta.property.og.site_name.content.Google.Docs..meta.property.og.url.content.https...drive.google.com.file.d.1zeW4D8Y00D6wNVD8FSCV5VrTyadJAjFE.view.usp.embed_facebook..link.rel.shortcut.icon.href.https...ssl.gstatic.com.docs.doclist.images.icon_14_text_favicon.ico..link.rel.stylesheet.href.https...fonts.googleapis.com.css.family.Google.Sans.300.400.500.700..link.rel.stylesheet.href.https...www.gstatic.com._.apps.fileview._.ss.k.apps.fileview.v.PpauRgFZLfo.L.X.O.d.0.ct.zgms.rs.AO0039tnAhVWZFge_16kiIgj22PJOqKWhA..script._docs_flag_initialData..docs.ails.docs_cold &lt;fct&gt; | docs.fwds.docs_sdf &lt;fct&gt; | ⋯ ⋯ | null.12 &lt;fct&gt; | AIzaSyC1eQ1xj69IdTMeii5r7brs3R90eck.m7k &lt;fct&gt; | X0.3 &lt;fct&gt; | X.drive.v2beta &lt;fct&gt; | X0.4 &lt;fct&gt; | X0.5 &lt;int&gt; | X1.5 &lt;int&gt; | X.0 &lt;fct&gt; | X0.6 &lt;fct&gt; | X0..1 &lt;fct&gt; |\n|---|---|---|---|---|---|---|---|---|---|---|---|---|---|---|---|---|---|---|---|---|---|\n| 1 | <!----> | null                            | 1    | null | 0    | 1]    | <!----> | <!----> | <!----> | <!----> | ⋯ | <!----> | <!----> | <!----> | <!----> | <!----> | NA | NA | <!----> | <!----> | <!----> |\n| 2 | <!----> | null                            | 5    | 1    | null | null  | 1                       | https://drive.google.com | null | null                                                                                                                                                                                                                                                                                              | ⋯ | <!----> | <!----> | <!----> | <!----> | <!----> | NA | NA | <!----> | <!----> | <!----> |\n| 3 | <!----> | 6                               | 1    | 1    | null | null  | null                    | 2]                       | <!----> | <!----> | ⋯ | <!----> | <!----> | <!----> | <!----> | <!----> | NA | NA | <!----> | <!----> | <!----> |\n| 4 | <!----> | null                            | 1    | null | null | [null | null                    | null                     | null | https://accounts.google.com/ServiceLogin?service\\u003dwise\\u0026passive\\u003d1209600\\u0026continue\\u003dhttps://drive.google.com/file/d/1zeW4D8Y00D6wNVD8FSCV5VrTyadJAjFE/view\\u0026hl\\u003den\\u0026followup\\u003dhttps://drive.google.com/file/d/1zeW4D8Y00D6wNVD8FSCV5VrTyadJAjFE/view | ⋯ | <!----> | <!----> | <!----> | <!----> | <!----> | NA | NA | <!----> | <!----> | <!----> |\n| 5 | <!----> | null                            | null | 1    | null | null  | https://docs.google.com | null                     | 1    | [null                                                                                                                                                                                                                                                                                             | ⋯ | <!----> | <!----> | <!----> | <!----> | <!----> | NA | NA | <!----> | <!----> | <!----> |\n| 6 | <!----> | [https://youtube.googleapis.com | null | 2]   | <!----> | <!----> | <!----> | <!----> | <!----> | <!----> | ⋯ | <!----> | <!----> | <!----> | <!----> | <!----> | NA | NA | <!----> | <!----> | <!----> |\n\n",
            "text/html": [
              "<table>\n",
              "<caption>A data.frame: 6 × 272</caption>\n",
              "<thead>\n",
              "\t<tr><th></th><th scope=col>X..DOCTYPE.html..html..head..meta.name.google.content.notranslate..meta.http.equiv.X.UA.Compatible.content.IE.edge...style..font.face.font.family..Roboto..font.style.italic.font.weight.400.src.local..Roboto.Italic..</th><th scope=col>local..Roboto.Italic..</th><th scope=col>url...fonts.gstatic.com.s.roboto.v18.KFOkCnqEu92Fr1Mu51xIIzc.ttf.format..truetype.....font.face.font.family..Roboto..font.style.normal.font.weight.300.src.local..Roboto.Light..</th><th scope=col>local..Roboto.Light..</th><th scope=col>url...fonts.gstatic.com.s.roboto.v18.KFOlCnqEu92Fr1MmSU5fBBc9.ttf.format..truetype.....font.face.font.family..Roboto..font.style.normal.font.weight.400.src.local..Roboto.Regular..</th><th scope=col>local..Roboto.Regular..</th><th scope=col>url...fonts.gstatic.com.s.roboto.v18.KFOmCnqEu92Fr1Mu4mxP.ttf.format..truetype.....font.face.font.family..Roboto..font.style.normal.font.weight.700.src.local..Roboto.Bold..</th><th scope=col>local..Roboto.Bold..</th><th scope=col>url...fonts.gstatic.com.s.roboto.v18.KFOlCnqEu92Fr1MmWUlfBBc9.ttf.format..truetype......style..meta.name.referrer.content.origin..title.Base_Banco.csv...Google.Drive..title..meta.property.og.title.content.Base_Banco.csv..meta.property.og.type.content.article..meta.property.og.site_name.content.Google.Docs..meta.property.og.url.content.https...drive.google.com.file.d.1zeW4D8Y00D6wNVD8FSCV5VrTyadJAjFE.view.usp.embed_facebook..link.rel.shortcut.icon.href.https...ssl.gstatic.com.docs.doclist.images.icon_14_text_favicon.ico..link.rel.stylesheet.href.https...fonts.googleapis.com.css.family.Google.Sans.300.400.500.700..link.rel.stylesheet.href.https...www.gstatic.com._.apps.fileview._.ss.k.apps.fileview.v.PpauRgFZLfo.L.X.O.d.0.ct.zgms.rs.AO0039tnAhVWZFge_16kiIgj22PJOqKWhA..script._docs_flag_initialData..docs.ails.docs_cold</th><th scope=col>docs.fwds.docs_sdf</th><th scope=col>⋯</th><th scope=col>null.12</th><th scope=col>AIzaSyC1eQ1xj69IdTMeii5r7brs3R90eck.m7k</th><th scope=col>X0.3</th><th scope=col>X.drive.v2beta</th><th scope=col>X0.4</th><th scope=col>X0.5</th><th scope=col>X1.5</th><th scope=col>X.0</th><th scope=col>X0.6</th><th scope=col>X0..1</th></tr>\n",
              "\t<tr><th></th><th scope=col>&lt;fct&gt;</th><th scope=col>&lt;fct&gt;</th><th scope=col>&lt;fct&gt;</th><th scope=col>&lt;fct&gt;</th><th scope=col>&lt;fct&gt;</th><th scope=col>&lt;fct&gt;</th><th scope=col>&lt;fct&gt;</th><th scope=col>&lt;fct&gt;</th><th scope=col>&lt;fct&gt;</th><th scope=col>&lt;fct&gt;</th><th scope=col>⋯</th><th scope=col>&lt;fct&gt;</th><th scope=col>&lt;fct&gt;</th><th scope=col>&lt;fct&gt;</th><th scope=col>&lt;fct&gt;</th><th scope=col>&lt;fct&gt;</th><th scope=col>&lt;int&gt;</th><th scope=col>&lt;int&gt;</th><th scope=col>&lt;fct&gt;</th><th scope=col>&lt;fct&gt;</th><th scope=col>&lt;fct&gt;</th></tr>\n",
              "</thead>\n",
              "<tbody>\n",
              "\t<tr><th scope=row>1</th><td></td><td>null                           </td><td>1   </td><td>null</td><td>0   </td><td>1]   </td><td>                       </td><td>                        </td><td>    </td><td>                                                                                                                                                                                                                                                                                                 </td><td>⋯</td><td></td><td></td><td></td><td></td><td></td><td>NA</td><td>NA</td><td></td><td></td><td></td></tr>\n",
              "\t<tr><th scope=row>2</th><td></td><td>null                           </td><td>5   </td><td>1   </td><td>null</td><td>null </td><td>1                      </td><td>https://drive.google.com</td><td>null</td><td>null                                                                                                                                                                                                                                                                                             </td><td>⋯</td><td></td><td></td><td></td><td></td><td></td><td>NA</td><td>NA</td><td></td><td></td><td></td></tr>\n",
              "\t<tr><th scope=row>3</th><td></td><td>6                              </td><td>1   </td><td>1   </td><td>null</td><td>null </td><td>null                   </td><td>2]                      </td><td>    </td><td>                                                                                                                                                                                                                                                                                                 </td><td>⋯</td><td></td><td></td><td></td><td></td><td></td><td>NA</td><td>NA</td><td></td><td></td><td></td></tr>\n",
              "\t<tr><th scope=row>4</th><td></td><td>null                           </td><td>1   </td><td>null</td><td>null</td><td>[null</td><td>null                   </td><td>null                    </td><td>null</td><td>https://accounts.google.com/ServiceLogin?service\\u003dwise\\u0026passive\\u003d1209600\\u0026continue\\u003dhttps://drive.google.com/file/d/1zeW4D8Y00D6wNVD8FSCV5VrTyadJAjFE/view\\u0026hl\\u003den\\u0026followup\\u003dhttps://drive.google.com/file/d/1zeW4D8Y00D6wNVD8FSCV5VrTyadJAjFE/view</td><td>⋯</td><td></td><td></td><td></td><td></td><td></td><td>NA</td><td>NA</td><td></td><td></td><td></td></tr>\n",
              "\t<tr><th scope=row>5</th><td></td><td>null                           </td><td>null</td><td>1   </td><td>null</td><td>null </td><td>https://docs.google.com</td><td>null                    </td><td>1   </td><td>[null                                                                                                                                                                                                                                                                                            </td><td>⋯</td><td></td><td></td><td></td><td></td><td></td><td>NA</td><td>NA</td><td></td><td></td><td></td></tr>\n",
              "\t<tr><th scope=row>6</th><td></td><td>[https://youtube.googleapis.com</td><td>null</td><td>2]  </td><td>    </td><td>     </td><td>                       </td><td>                        </td><td>    </td><td>                                                                                                                                                                                                                                                                                                 </td><td>⋯</td><td></td><td></td><td></td><td></td><td></td><td>NA</td><td>NA</td><td></td><td></td><td></td></tr>\n",
              "</tbody>\n",
              "</table>\n"
            ]
          },
          "metadata": {
            "tags": []
          }
        }
      ]
    },
    {
      "cell_type": "code",
      "metadata": {
        "id": "FUmNxFC5Fw8B",
        "colab_type": "code",
        "colab": {}
      },
      "source": [
        ""
      ],
      "execution_count": 0,
      "outputs": []
    }
  ]
}